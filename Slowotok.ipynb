{
 "cells": [
  {
   "cell_type": "code",
   "execution_count": 1,
   "id": "2d9ce23e-c7e3-484a-ba3e-3b338c77f9f5",
   "metadata": {},
   "outputs": [],
   "source": [
    "import hashlib"
   ]
  },
  {
   "cell_type": "code",
   "execution_count": 2,
   "id": "155dd44e-422b-4deb-95cd-9d267f544ac8",
   "metadata": {},
   "outputs": [
    {
     "name": "stdout",
     "output_type": "stream",
     "text": [
      "e528d9653e9607bf1aa0dbabc66deef3\n"
     ]
    }
   ],
   "source": [
    "print(hashlib.md5(\"WYRO\".encode(\"UTF-8\")).hexdigest())"
   ]
  },
  {
   "cell_type": "code",
   "execution_count": 3,
   "id": "41829d0a-19de-4f22-af81-4f1c55389a55",
   "metadata": {},
   "outputs": [],
   "source": [
    "with open(\"slowa.txt\",\"r\") as file:\n",
    "    lines = [s.strip().upper() for s in file.readlines()]\n",
    "    lines = {hashlib.md5(s.encode(\"UTF-8\")).hexdigest() : s for s in lines if len(s) > 2}"
   ]
  },
  {
   "cell_type": "code",
   "execution_count": 4,
   "id": "ffab5e01-094d-4003-8c93-ce371fd538dc",
   "metadata": {},
   "outputs": [
    {
     "data": {
      "text/plain": [
       "'WYRO'"
      ]
     },
     "execution_count": 4,
     "metadata": {},
     "output_type": "execute_result"
    }
   ],
   "source": [
    "lines[\"e528d9653e9607bf1aa0dbabc66deef3\"]"
   ]
  },
  {
   "cell_type": "code",
   "execution_count": 5,
   "id": "3655517e-fc1a-499e-9e0a-be44a31cb602",
   "metadata": {},
   "outputs": [],
   "source": [
    "words = ['0793208a6a8ee30db34d467d376eafb8', '01d7aeb2188c9aa80584525ec65c2aa3', 'f5b7d8538da68fa55ace6e8f83a2378c', 'c2f67945980f3da0abfc5f7d1bf36985', 'fb902bc4807c307b9309f2b528b96f2b', '1efc94aeca5085328b892eb93fc3b26b', '7431eca4ea0c7844deec80bb479de72b', '66f2377cac7a9024085b4688598d15a1', 'dd965c6d3b499de7da3090e20e27c4ef', '50491abb929620e598b27d56d101eef2', 'f0b2399fd4bf13d1d6a8e7bf52b27483', 'd1e1549939d3bdc1caa10f65876dba6c', '5e567bf650640c58e9455ad2eb4b05bc', 'c152301a348f095b16ae5381bc81647d', 'ef01abce9646c28f96de24223e801024', 'f0c2c0ca864067cc6e21a7ea2c1b1fdd', 'cc2464bb73dc72d9ee28eecc01e27c56', '12ae43e68edf9759c087f2b0db126479', '5c08a08813e135e5096a4a1b6fa6409c', 'c52e47040347f6f55900e8318909b3c5', 'ec2446ee4dfeaffc59f3bfb3483ccea7', '6797ee0de4e6d4511b6dd0cf4ab28e88', '855520d2a5b0b1a64b939e7e30889e2a', '940c776d07abdfed755a8fb10d9c379e', 'd3fa1aa45b9fe56e1fc1b558d8ed6678', '752e4d6a7e4e334e4771d6255b069462', '157181ffcabbeae54bb036e489bc2b77', '69f34212fa399e9cca0810dc106fb3d6', '48f46e33621181125606eb2d62a3025c', '1037dff37215892e1b79948118e2037c', '999bc6b18351bbe817d26f559ba408ae', 'aa491df98d63f0894f18087bb142d472', 'edf5bdfdf496166746e1794e80042a49', '145b18e0cb047d3fb5504472ebd1ffed', 'f5faa82adc80348aa6a05db3d412381a', '3e1cb99390be0d4beac17788c61efbc6', 'fa0931966ec6919f988e254ce6fd39f3', '32182f464523d087f0a693cda692467a', 'c7409f7fb63ec752500c7f2135d41f76', '5815ce013acc34779c828233027ada32', 'a71f8b503996dccd98e2c993481fee2f', '98707ac4e342b561aee84ae87827698c', '73e871014f0264e00731e05370db5810', '7fc03f93c8851ca82ddc38d9285a9899', 'e59f1c4fb1aa1d70a8c3eb59ff3e461b', 'a390a6606d0c71c5a6334652c95c5c56', '4ffc6765f4ee12d9c9dcca6d428949e2', 'c53fa5abbc8954eb27e66a6f71708f52', 'e7c2d8d1871449e7a2cd29729053647d', '41b831e8c998d94e560657c10973d83b', '1a5417b9df39cdbb642ef77c593121a5', '732798a292ccd22394a13db3a2ab3480', '8baeec6d282f1791ea9954d0c514ed8d', '9618ae4ea9a9674a9d984c15dd141a3e', 'c33d3feea2672232b06e320158416abf', 'add5bb609656fa2768c6e834c7b4a643', '939a2eaa3056608a0f3a65c88f11a8d4', '171e362c04fc5ad84e24dae4a06013ea', 'f10222c7495eea4f59de9e3fc3864848', 'b6f7dad5e7b345cd93f038451c9d9821', '7f244a0e91c300db2df9bc3a6f081d87', 'aa389052565f81986061c674a44c180a', '3a450914c09f8e2e3762e4d17ac18f66', '9c315cd0c14b43b6989d6348842b1378', 'bdb0cf594fc5148105678a637aeda898', '3b9acca8e5ae7a1734578550fc070187', '5c2b6fd624eef55a49e6a9aecfecd23c', '81d1add968308dd33584ec37e6bb0221', '410f101e08497420c32d8daba63e40ae', '9969f648fc703c0c7944a8c2ed286c56', '4e45a36aed5c5a40745ef643b97c7744', 'b7cf5d1d3d51dfe913a10a0064f54120', '6f6cb998352e933ae72f4c72942f6eed', 'c9adb2c8398fd526fc8775816d0b979b', '9949fe533a1733e5a71c82c26abb839b', '1869e05c920f179d5bc95575029d05d3', '3a1eeb68b67da7294121719979ea46b5', 'ad911d7c01208b638589cf3d022c172d', '2374ce08cb0f99d6157fd6134be7defc', '3b0d794c1f940b328413e2d8747a50fc', 'f0a0547f767d234bf38bdc4a9e0360c3', '2b8bb79e4631b9f935a5b2901c9d08f0', '7a95290bf643ef07a512a166e3ef83b1', 'bcad3ff97c81bdc87376b57931b53d08', '968cb167cf6acdd3ebb090828af92b2e', 'f83121a30bc1695c6ad81402c960fd19', '04b7a292bf02ab0a30b2a8cc3a0b6caf', '438616eb2ca370c684744f107dd29487', 'f34426c6ca0eff38c72740f89e649faf', '58f764d87d356250ef27c734fb809093', '1566ca7e9709b6a24623fc499aebd271']"
   ]
  },
  {
   "cell_type": "code",
   "execution_count": 6,
   "id": "f5f95368-6178-4a7b-8089-2ecfb9ae9657",
   "metadata": {},
   "outputs": [],
   "source": [
    "test = [lines[word] for word in words if word in lines]"
   ]
  },
  {
   "cell_type": "code",
   "execution_count": 7,
   "id": "88801286-5164-4fa2-ad70-46ab22f21620",
   "metadata": {},
   "outputs": [],
   "source": [
    "test"
   ]
  },
  {
   "cell_type": "code",
   "execution_count": 8,
   "id": "a152a4f0-6ea2-474a-a292-011bc029d6d6",
   "metadata": {},
   "outputs": [],
   "source": [
    "import requests"
   ]
  },
  {
   "cell_type": "code",
   "execution_count": 9,
   "id": "d884ce58-e1e7-41eb-ac5e-206f57d33bb5",
   "metadata": {},
   "outputs": [
    {
     "ename": "IndentationError",
     "evalue": "unexpected indent (1334217985.py, line 2)",
     "output_type": "error",
     "traceback": [
      "\u001b[0;36m  Input \u001b[0;32mIn [9]\u001b[0;36m\u001b[0m\n\u001b[0;31m    \"ASP.NET_SessionId\":\"yyxsd5rjouxdybd13f3ni1x5\"})\u001b[0m\n\u001b[0m    ^\u001b[0m\n\u001b[0;31mIndentationError\u001b[0m\u001b[0;31m:\u001b[0m unexpected indent\n"
     ]
    }
   ],
   "source": [
    "text = requests.get(\"https://slowotok.pl/play\",cookies = {\".ASPXAUTH\":\"54E2C7E0B712FDDD41979C2E131F2B435DFD4C2CF1B02BEF84F31BCC5598E57E26B89D1C2ECF9173171868BAA642D8D774396B92CAA0EF2CCB92695A06A3B68ED36DAEDBAFB5D7B05BA7F67EE31DBAEE7CF9595E2D969AC6F7EABB26213C713F38A4257EFED49365FD92C57D09E4A5BA41B905B43BEC86F3AA34063D556B52187392A3D408E263B9F370B94ED1B3557AE1AC6464600FF2351FF1A6A951CC921E849F01CBC4281AC2DDAA026C528E97AF\",\n",
    "                        \"ASP.NET_SessionId\":\"yyxsd5rjouxdybd13f3ni1x5\"})"
   ]
  },
  {
   "cell_type": "code",
   "execution_count": null,
   "id": "1d901141-01f5-4c06-8152-d19465e1e298",
   "metadata": {},
   "outputs": [],
   "source": [
    "# text.text\n",
    "# import sys\n",
    "# !{sys.executable} -m pip install requests_html"
   ]
  },
  {
   "cell_type": "code",
   "execution_count": null,
   "id": "59301da8-bb53-433f-a070-b90513c972d4",
   "metadata": {},
   "outputs": [],
   "source": [
    "# from requests_html import HTMLSession"
   ]
  },
  {
   "cell_type": "code",
   "execution_count": null,
   "id": "7bd5ae45-de76-47d7-96c6-d4f213632d62",
   "metadata": {},
   "outputs": [],
   "source": [
    "# session = HTMLSession()\n",
    "# resp = session.get(\"https://slowotok.pl/play\",cookies = {\".ASPXAUTH\":\"54E2C7E0B712FDDD41979C2E131F2B435DFD4C2CF1B02BEF84F31BCC5598E57E26B89D1C2ECF9173171868BAA642D8D774396B92CAA0EF2CCB92695A06A3B68ED36DAEDBAFB5D7B05BA7F67EE31DBAEE7CF9595E2D969AC6F7EABB26213C713F38A4257EFED49365FD92C57D09E4A5BA41B905B43BEC86F3AA34063D556B52187392A3D408E263B9F370B94ED1B3557AE1AC6464600FF2351FF1A6A951CC921E849F01CBC4281AC2DDAA026C528E97AF\",\n",
    "                        \"ASP.NET_SessionId\":\"yyxsd5rjouxdybd13f3ni1x5\"})\n",
    " \n",
    "# Run JavaScript code on webpage\n",
    "resp.html.render()"
   ]
  },
  {
   "cell_type": "code",
   "execution_count": null,
   "id": "7f3f80b2-0724-482f-b5fc-efd38a6b5b15",
   "metadata": {},
   "outputs": [],
   "source": []
  }
 ],
 "metadata": {
  "kernelspec": {
   "display_name": "Python 3 (ipykernel)",
   "language": "python",
   "name": "python3"
  },
  "language_info": {
   "codemirror_mode": {
    "name": "ipython",
    "version": 3
   },
   "file_extension": ".py",
   "mimetype": "text/x-python",
   "name": "python",
   "nbconvert_exporter": "python",
   "pygments_lexer": "ipython3",
   "version": "3.9.10"
  }
 },
 "nbformat": 4,
 "nbformat_minor": 5
}
