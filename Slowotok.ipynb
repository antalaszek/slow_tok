{
 "cells": [
  {
   "cell_type": "code",
   "execution_count": 1,
   "id": "2d9ce23e-c7e3-484a-ba3e-3b338c77f9f5",
   "metadata": {},
   "outputs": [],
   "source": [
    "import hashlib, requests, json"
   ]
  },
  {
   "cell_type": "code",
   "execution_count": 2,
   "id": "2c0fc7a6-a1e8-464f-b3a7-8e643f76cdfa",
   "metadata": {},
   "outputs": [],
   "source": [
    "#tu wrzucic wartosci cookies\n",
    "#aspxauth to .ASPXAUTH\n",
    "aspxauth = \"\"\n",
    "#aspnet to ASP.NET_SessionId\n",
    "aspnet = \"\"\n",
    "\n",
    "url = \"https://slowotok.pl/play/board?_=1645801017308\"\n",
    "headers = {\"cookie\":\".ASPXAUTH={}; ASP.NET_SessionId={}\".format(aspxauth,aspnet)}\n",
    "resp = requests.get(url, headers=headers)\n",
    "words = json.loads(resp.text)[\"Hashs\"]"
   ]
  },
  {
   "cell_type": "code",
   "execution_count": 3,
   "id": "41829d0a-19de-4f22-af81-4f1c55389a55",
   "metadata": {},
   "outputs": [],
   "source": [
    "with open(\"slowa.txt\",\"r\") as file:\n",
    "    lines = [s.strip().upper() for s in file.readlines()]\n",
    "    lines = {hashlib.md5(s.encode(\"UTF-8\")).hexdigest() : s for s in lines if len(s) > 2}"
   ]
  },
  {
   "cell_type": "code",
   "execution_count": 4,
   "id": "f5f95368-6178-4a7b-8089-2ecfb9ae9657",
   "metadata": {},
   "outputs": [],
   "source": [
    "test = [lines[word] for word in words if word in lines]"
   ]
  },
  {
   "cell_type": "code",
   "execution_count": 5,
   "id": "88801286-5164-4fa2-ad70-46ab22f21620",
   "metadata": {},
   "outputs": [
    {
     "data": {
      "text/plain": [
       "['KEL',\n",
       " 'KER',\n",
       " 'KLE',\n",
       " 'KRA',\n",
       " 'KAR',\n",
       " 'AKR',\n",
       " 'REK',\n",
       " 'ARA',\n",
       " 'ERA',\n",
       " 'RWA',\n",
       " 'ĆMA',\n",
       " 'RAK',\n",
       " 'LEK',\n",
       " 'MAK',\n",
       " 'LAR',\n",
       " 'WAL',\n",
       " 'KWA',\n",
       " 'MAA',\n",
       " 'MAĆ',\n",
       " 'WAR',\n",
       " 'ALE',\n",
       " 'ŁKAĆ',\n",
       " 'FRAK',\n",
       " 'KLER',\n",
       " 'FARA',\n",
       " 'KLAR',\n",
       " 'FAMA',\n",
       " 'KRAM',\n",
       " 'KARA',\n",
       " 'KARK',\n",
       " 'KAWA',\n",
       " 'KAMA',\n",
       " 'ELKA',\n",
       " 'ARKA',\n",
       " 'ERKA',\n",
       " 'AWAL',\n",
       " 'RWAĆ',\n",
       " 'RAMA',\n",
       " 'WRAK',\n",
       " 'LAWA',\n",
       " 'MARA',\n",
       " 'KWAK',\n",
       " 'WARA',\n",
       " 'MAAR',\n",
       " 'AMFA',\n",
       " 'ALKA',\n",
       " 'ARAK',\n",
       " 'ARFA',\n",
       " 'KLERK',\n",
       " 'FAKEL',\n",
       " 'FAKLA',\n",
       " 'KLARK',\n",
       " 'KAWKA',\n",
       " 'ĆAKRA',\n",
       " 'RAMKA',\n",
       " 'LERKA',\n",
       " 'MAREK',\n",
       " 'MARLA',\n",
       " 'MARAL',\n",
       " 'MARKA',\n",
       " 'LARWA',\n",
       " 'KWARK',\n",
       " 'WALKA',\n",
       " 'MAKAK',\n",
       " 'ALWAR',\n",
       " 'AKARA',\n",
       " 'AREKA',\n",
       " 'KRAKWA',\n",
       " 'MAKLER',\n",
       " 'KAWALER',\n",
       " 'LEKARKA',\n",
       " 'MAKRELA',\n",
       " 'MAKRELKA',\n",
       " 'AKWARELA',\n",
       " 'KAWALERKA',\n",
       " 'AKWARELKA']"
      ]
     },
     "execution_count": 5,
     "metadata": {},
     "output_type": "execute_result"
    }
   ],
   "source": [
    "test"
   ]
  }
 ],
 "metadata": {
  "kernelspec": {
   "display_name": "Python 3 (ipykernel)",
   "language": "python",
   "name": "python3"
  },
  "language_info": {
   "codemirror_mode": {
    "name": "ipython",
    "version": 3
   },
   "file_extension": ".py",
   "mimetype": "text/x-python",
   "name": "python",
   "nbconvert_exporter": "python",
   "pygments_lexer": "ipython3",
   "version": "3.10.2"
  }
 },
 "nbformat": 4,
 "nbformat_minor": 5
}
