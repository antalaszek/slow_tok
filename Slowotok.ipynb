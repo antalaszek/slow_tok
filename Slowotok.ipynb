{
 "cells": [
  {
   "cell_type": "code",
   "execution_count": 2,
   "id": "2d9ce23e-c7e3-484a-ba3e-3b338c77f9f5",
   "metadata": {},
   "outputs": [],
   "source": [
    "import hashlib, requests, json, configparser"
   ]
  },
  {
   "cell_type": "code",
   "execution_count": 3,
   "id": "2c0fc7a6-a1e8-464f-b3a7-8e643f76cdfa",
   "metadata": {},
   "outputs": [],
   "source": [
    "config = configparser.ConfigParser()\n",
    "config.read(\"setup.ini\")\n",
    "#tu wrzucic wartosci cookies\n",
    "#aspxauth to .ASPXAUTH\n",
    "aspxauth = config[\"DEFAULT\"][\"aspxauth\"]\n",
    "#aspnet to ASP.NET_SessionId\n",
    "aspnet = config[\"DEFAULT\"][\"aspnet\"]\n",
    "\n",
    "url = \"https://slowotok.pl/play/board?_=1645801017308\"\n",
    "headers = {\"cookie\":\".ASPXAUTH={}; ASP.NET_SessionId={}\".format(aspxauth,aspnet)}\n",
    "resp = requests.get(url, headers=headers)\n",
    "words = json.loads(resp.text)[\"Hashs\"]"
   ]
  },
  {
   "cell_type": "code",
   "execution_count": 4,
   "id": "41829d0a-19de-4f22-af81-4f1c55389a55",
   "metadata": {},
   "outputs": [],
   "source": [
    "with open(\"slowa.txt\",\"r\") as file:\n",
    "    lines = [s.strip().upper() for s in file.readlines()]\n",
    "    lines = {hashlib.md5(s.encode(\"UTF-8\")).hexdigest() : s for s in lines if len(s) > 2}"
   ]
  },
  {
   "cell_type": "code",
   "execution_count": 15,
   "id": "f5f95368-6178-4a7b-8089-2ecfb9ae9657",
   "metadata": {},
   "outputs": [],
   "source": [
    "test = sorted([lines[word] for word in words if word in lines],key=len,reverse=True)"
   ]
  },
  {
   "cell_type": "code",
   "execution_count": 16,
   "id": "88801286-5164-4fa2-ad70-46ab22f21620",
   "metadata": {},
   "outputs": [
    {
     "data": {
      "text/plain": [
       "['PODBUNTOWYWAĆ',\n",
       " 'WRĘBOWY',\n",
       " 'TUBOWY',\n",
       " 'WYRWAĆ',\n",
       " 'NUTOWY',\n",
       " 'RĘBOWY',\n",
       " 'WYWAR',\n",
       " 'WYRWA',\n",
       " 'BUNT',\n",
       " 'PĘTO',\n",
       " 'RWAĆ',\n",
       " 'TUB',\n",
       " 'BUT',\n",
       " 'NUT',\n",
       " 'BOT',\n",
       " 'BOY',\n",
       " 'POD',\n",
       " 'WAR',\n",
       " 'POP',\n",
       " 'RWA']"
      ]
     },
     "execution_count": 16,
     "metadata": {},
     "output_type": "execute_result"
    }
   ],
   "source": [
    "test"
   ]
  },
  {
   "cell_type": "code",
   "execution_count": null,
   "id": "0a341e0c-cb6d-4699-8903-bcadff8f25ed",
   "metadata": {},
   "outputs": [],
   "source": []
  }
 ],
 "metadata": {
  "kernelspec": {
   "display_name": "Python 3 (ipykernel)",
   "language": "python",
   "name": "python3"
  },
  "language_info": {
   "codemirror_mode": {
    "name": "ipython",
    "version": 3
   },
   "file_extension": ".py",
   "mimetype": "text/x-python",
   "name": "python",
   "nbconvert_exporter": "python",
   "pygments_lexer": "ipython3",
   "version": "3.10.2"
  }
 },
 "nbformat": 4,
 "nbformat_minor": 5
}
